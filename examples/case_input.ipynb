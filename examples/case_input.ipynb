{
 "cells": [
  {
   "cell_type": "code",
   "execution_count": 1,
   "id": "dabc38ac",
   "metadata": {},
   "outputs": [],
   "source": [
    "import numpy as np\n",
    "import microhhpy.io as io"
   ]
  },
  {
   "cell_type": "code",
   "execution_count": 2,
   "id": "6ba16d0c",
   "metadata": {},
   "outputs": [],
   "source": [
    "zsize = 3200\n",
    "ktot = 64\n",
    "dz = zsize / ktot\n",
    "z = np.arange(dz/2, zsize, dz)\n",
    "th = 300 * 0.006 * z\n",
    "\n",
    "# Define case input data in dictionaries.\n",
    "# Init group is always required.\n",
    "init = dict(\n",
    "    z = z,\n",
    "    th = th\n",
    ")\n",
    "\n",
    "# Other groups are optional.\n",
    "time_sfc = np.arange(0, 10800, 600)\n",
    "p_sbot = np.zeros(time_sfc.size)\n",
    "\n",
    "tdep_sfc = dict(\n",
    "    time_surface = time_sfc,\n",
    "    p_sbot = p_sbot\n",
    ")\n",
    "\n",
    "time_ls = np.arange(0, 10800, 3600)\n",
    "th_ls = np.zeros((time_ls.size, z.size))\n",
    "\n",
    "tdep_ls = dict(\n",
    "    time_ls = time_ls,\n",
    "    th_ls = th_ls\n",
    ") \n",
    "\n",
    "io.save_case_input(\n",
    "    'case_name',\n",
    "    init_profiles = init,\n",
    "    tdep_surface = tdep_sfc,\n",
    "    tdep_ls = tdep_ls\n",
    ")"
   ]
  },
  {
   "cell_type": "code",
   "execution_count": 3,
   "id": "5e823b50",
   "metadata": {},
   "outputs": [
    {
     "name": "stdout",
     "output_type": "stream",
     "text": [
      "netcdf case_name_input {\n",
      "dimensions:\n",
      "\tz = 64 ;\n",
      "variables:\n",
      "\tdouble z(z) ;\n",
      "\n",
      "group: init {\n",
      "  variables:\n",
      "  \tdouble z(z) ;\n",
      "  \tdouble th(z) ;\n",
      "  } // group init\n",
      "\n",
      "group: timedep {\n",
      "  dimensions:\n",
      "  \ttime_surface = 18 ;\n",
      "  \ttime_ls = 3 ;\n",
      "  variables:\n",
      "  \tdouble time_surface(time_surface) ;\n",
      "  \tdouble p_sbot(time_surface) ;\n",
      "  \tdouble time_ls(time_ls) ;\n",
      "  \tdouble th_ls(time_ls, z) ;\n",
      "  } // group timedep\n",
      "}\n"
     ]
    }
   ],
   "source": [
    "!ncdump -h case_name_input.nc"
   ]
  },
  {
   "cell_type": "code",
   "execution_count": 4,
   "id": "ab37fe7c",
   "metadata": {},
   "outputs": [
    {
     "name": "stdout",
     "output_type": "stream",
     "text": [
      "\u001b[0;31mSignature:\u001b[0m\n",
      "\u001b[0mio\u001b[0m\u001b[0;34m.\u001b[0m\u001b[0msave_case_input\u001b[0m\u001b[0;34m(\u001b[0m\u001b[0;34m\u001b[0m\n",
      "\u001b[0;34m\u001b[0m    \u001b[0mcase_name\u001b[0m\u001b[0;34m,\u001b[0m\u001b[0;34m\u001b[0m\n",
      "\u001b[0;34m\u001b[0m    \u001b[0minit_profiles\u001b[0m\u001b[0;34m,\u001b[0m\u001b[0;34m\u001b[0m\n",
      "\u001b[0;34m\u001b[0m    \u001b[0mtdep_surface\u001b[0m\u001b[0;34m=\u001b[0m\u001b[0;32mNone\u001b[0m\u001b[0;34m,\u001b[0m\u001b[0;34m\u001b[0m\n",
      "\u001b[0;34m\u001b[0m    \u001b[0mtdep_ls\u001b[0m\u001b[0;34m=\u001b[0m\u001b[0;32mNone\u001b[0m\u001b[0;34m,\u001b[0m\u001b[0;34m\u001b[0m\n",
      "\u001b[0;34m\u001b[0m    \u001b[0mtdep_source\u001b[0m\u001b[0;34m=\u001b[0m\u001b[0;32mNone\u001b[0m\u001b[0;34m,\u001b[0m\u001b[0;34m\u001b[0m\n",
      "\u001b[0;34m\u001b[0m    \u001b[0mtdep_chem\u001b[0m\u001b[0;34m=\u001b[0m\u001b[0;32mNone\u001b[0m\u001b[0;34m,\u001b[0m\u001b[0;34m\u001b[0m\n",
      "\u001b[0;34m\u001b[0m    \u001b[0mtdep_aerosol\u001b[0m\u001b[0;34m=\u001b[0m\u001b[0;32mNone\u001b[0m\u001b[0;34m,\u001b[0m\u001b[0;34m\u001b[0m\n",
      "\u001b[0;34m\u001b[0m    \u001b[0mtdep_radiation\u001b[0m\u001b[0;34m=\u001b[0m\u001b[0;32mNone\u001b[0m\u001b[0;34m,\u001b[0m\u001b[0;34m\u001b[0m\n",
      "\u001b[0;34m\u001b[0m    \u001b[0mradiation\u001b[0m\u001b[0;34m=\u001b[0m\u001b[0;32mNone\u001b[0m\u001b[0;34m,\u001b[0m\u001b[0;34m\u001b[0m\n",
      "\u001b[0;34m\u001b[0m    \u001b[0msoil\u001b[0m\u001b[0;34m=\u001b[0m\u001b[0;32mNone\u001b[0m\u001b[0;34m,\u001b[0m\u001b[0;34m\u001b[0m\n",
      "\u001b[0;34m\u001b[0m    \u001b[0msource\u001b[0m\u001b[0;34m=\u001b[0m\u001b[0;32mNone\u001b[0m\u001b[0;34m,\u001b[0m\u001b[0;34m\u001b[0m\n",
      "\u001b[0;34m\u001b[0m    \u001b[0mtrajectories\u001b[0m\u001b[0;34m=\u001b[0m\u001b[0;32mNone\u001b[0m\u001b[0;34m,\u001b[0m\u001b[0;34m\u001b[0m\n",
      "\u001b[0;34m\u001b[0m    \u001b[0mpath\u001b[0m\u001b[0;34m=\u001b[0m\u001b[0;32mNone\u001b[0m\u001b[0;34m,\u001b[0m\u001b[0;34m\u001b[0m\n",
      "\u001b[0;34m\u001b[0m\u001b[0;34m)\u001b[0m\u001b[0;34m\u001b[0m\u001b[0;34m\u001b[0m\u001b[0m\n",
      "\u001b[0;31mDocstring:\u001b[0m Function for writing the MicroHH NetCDF input from set of {variable: values} dictionaries.\n",
      "\u001b[0;31mFile:\u001b[0m      ~/meteo/models/microhhpy/microhhpy/io/case_input.py\n",
      "\u001b[0;31mType:\u001b[0m      function"
     ]
    }
   ],
   "source": [
    "# See function signature for available groups:\n",
    "io.save_case_input?"
   ]
  }
 ],
 "metadata": {
  "kernelspec": {
   "display_name": ".venv",
   "language": "python",
   "name": "python3"
  },
  "language_info": {
   "codemirror_mode": {
    "name": "ipython",
    "version": 3
   },
   "file_extension": ".py",
   "mimetype": "text/x-python",
   "name": "python",
   "nbconvert_exporter": "python",
   "pygments_lexer": "ipython3",
   "version": "3.9.5"
  }
 },
 "nbformat": 4,
 "nbformat_minor": 5
}
