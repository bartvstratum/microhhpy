{
 "cells": [
  {
   "cell_type": "code",
   "execution_count": 1,
   "metadata": {},
   "outputs": [],
   "source": [
    "import matplotlib.pyplot as plt\n",
    "import numpy as np\n",
    "\n",
    "from microhhpy.emission import Emission_input"
   ]
  },
  {
   "cell_type": "code",
   "execution_count": 2,
   "metadata": {},
   "outputs": [],
   "source": [
    "\"\"\"\n",
    "Settings and MicroHH grid.\n",
    "\"\"\"\n",
    "xsize = 300\n",
    "ysize = 300\n",
    "zsize = 300\n",
    "\n",
    "itot = 300\n",
    "jtot = 300\n",
    "ktot = 300\n",
    "\n",
    "dx = xsize / itot\n",
    "dy = ysize / jtot\n",
    "dz0 = zsize / ktot\n",
    "\n",
    "x = np.arange(dx/2, xsize, dx)\n",
    "y = np.arange(dy/2, ysize, dy)\n",
    "z = np.arange(dz0/2, zsize, dz0)\n",
    "zh = np.arange(0, zsize+0.1, dz0)\n",
    "\n",
    "dz = zh[1:] - zh[:-1]\n",
    "rho_ref = np.ones(ktot)"
   ]
  },
  {
   "cell_type": "code",
   "execution_count": null,
   "metadata": {},
   "outputs": [],
   "source": [
    "\"\"\"\n",
    "Create emission input.\n",
    "TODO: Add example of using `microhhpy.thermo.Basestate_dry/moist.\n",
    "\"\"\"\n",
    "times = np.array([0, 3600])     # Or simply np.array([0]) for non time-dependent emissions.\n",
    "\n",
    "fields = ['s1']\n",
    "emiss = Emission_input(fields, times, x, y, z, dz, rho_ref)\n",
    "\n",
    "emiss.add_gaussian(field='s1', strength=1, time=0, x0=150, y0=150, z0=100, sigma_x=50, sigma_y=25, sigma_z=25)\n",
    "emiss.add_gaussian(field='s1', strength=0.1, time=0, x0=50, y0=50, z0=50, sigma_x=10, sigma_y=10, sigma_z=10)\n",
    "\n",
    "# Clip vertical extent.\n",
    "emiss.clip()\n",
    "\n",
    "# Save as binary input for MicroHH\n",
    "emiss.to_binary(path='.')"
   ]
  },
  {
   "cell_type": "code",
   "execution_count": null,
   "metadata": {},
   "outputs": [],
   "source": [
    "\"\"\"\n",
    "Plot.\n",
    "\"\"\"\n",
    "\n",
    "plt.figure()\n",
    "plt.pcolormesh(x, z[:emiss.kmax], emiss.data['s1'][0, :, :, :].sum(axis=1))\n",
    "plt.colorbar()"
   ]
  }
 ],
 "metadata": {
  "kernelspec": {
   "display_name": ".venv",
   "language": "python",
   "name": "python3"
  },
  "language_info": {
   "codemirror_mode": {
    "name": "ipython",
    "version": 3
   },
   "file_extension": ".py",
   "mimetype": "text/x-python",
   "name": "python",
   "nbconvert_exporter": "python",
   "pygments_lexer": "ipython3",
   "version": "3.9.5"
  }
 },
 "nbformat": 4,
 "nbformat_minor": 2
}
