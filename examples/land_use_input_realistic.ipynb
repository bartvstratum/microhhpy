{
 "cells": [
  {
   "cell_type": "code",
   "execution_count": null,
   "id": "dc2eca9e",
   "metadata": {},
   "outputs": [],
   "source": [
    "%matplotlib ipympl\n",
    "\n",
    "import glob\n",
    "import os\n",
    "\n",
    "import matplotlib.pyplot as plt\n",
    "import numpy as np\n",
    "\n",
    "from microhhpy.spatial import Domain, plot_domains\n",
    "from microhhpy.land import create_land_surface_input, read_corine, plot_corine\n",
    "from microhhpy.land import get_ifs_vegetation_lut, get_ifs_vegetation_cmap"
   ]
  },
  {
   "cell_type": "markdown",
   "id": "e0e72a26",
   "metadata": {},
   "source": [
    "## Realistic heterogeneous land-use\n",
    "For realistic cases, we provide methods to create land-surface input from:\n",
    "- [Corine, Europe, 100m resolution](https://land.copernicus.eu/en/products/corine-land-cover)\n",
    "- [LCC, Global, 100 m resolution](https://land.copernicus.eu/en/products/global-dynamic-land-cover/copernicus-global-land-service-land-cover-100m-collection-3-epoch-2019-globe)\n",
    "- [LCC, Global 10 m resolution](https://land.copernicus.eu/en/products/global-dynamic-land-cover/land-cover-2020-raster-10-m-global-annual) (Not yet, TODO!)"
   ]
  },
  {
   "cell_type": "code",
   "execution_count": null,
   "id": "5b4c25f0",
   "metadata": {},
   "outputs": [],
   "source": [
    "corine_tiff = '/home/scratch1/bart/Corine/u2018_clc2018_v2020_20u1_raster100m/DATA/U2018_CLC2018_V2020_20u1.tif'\n",
    "lcc_tiff = '/home/scratch1/bart/LCC/PROBAV_LC100_global_v3.0.1_2019-nrt_Discrete-Classification-map_EPSG-4326.tif'"
   ]
  },
  {
   "cell_type": "code",
   "execution_count": null,
   "id": "c51f470e",
   "metadata": {},
   "outputs": [],
   "source": [
    "\"\"\"\n",
    "Setup domain / projection.\n",
    "\"\"\"\n",
    "lon = 5.7\n",
    "lat = 52\n",
    "proj_str = f'+proj=lcc +lat_1={lat-1} +lat_2={lat+1} +lat_0={lat} +lon_0={lon} +x_0=0 +y_0=0 +datum=WGS84 +units=m +no_defs'\n",
    "\n",
    "dom = Domain(\n",
    "    xsize = 25600,\n",
    "    ysize = 25600,\n",
    "    itot = 256,\n",
    "    jtot = 256,\n",
    "    lon = lon,\n",
    "    lat = lat,\n",
    "    anchor = 'center',\n",
    "    proj_str = proj_str)\n",
    "\n",
    "plot_domains([dom], use_projection=True)\n",
    "\n",
    "z_soil = np.array([-0.035, -0.175, -0.64 , -1.945])[::-1]"
   ]
  },
  {
   "cell_type": "code",
   "execution_count": null,
   "id": "2387684d",
   "metadata": {},
   "outputs": [],
   "source": [
    "lu_corine = create_land_surface_input(\n",
    "    dom.proj.lon,\n",
    "    dom.proj.lat,\n",
    "    z_soil,\n",
    "    land_use_source='corine_100m',\n",
    "    land_use_tiff=corine_tiff,\n",
    "    save_binaries=True,\n",
    "    output_dir='.',\n",
    "    save_netcdf=True,\n",
    "    netcdf_file='lsm_input_corine.nc',\n",
    ")\n",
    "\n",
    "lu_lcc = create_land_surface_input(\n",
    "    dom.proj.lon,\n",
    "    dom.proj.lat,\n",
    "    z_soil,\n",
    "    land_use_source='lcc_100m',\n",
    "    land_use_tiff=lcc_tiff,\n",
    "    save_binaries=True,\n",
    "    output_dir='.',\n",
    "    save_netcdf=True,\n",
    "    netcdf_file='lsm_input_lcc.nc',\n",
    ")"
   ]
  },
  {
   "cell_type": "code",
   "execution_count": null,
   "id": "db055f4f",
   "metadata": {},
   "outputs": [],
   "source": [
    "veg_lut = get_ifs_vegetation_lut()\n",
    "names = veg_lut['name']\n",
    "ifs_cmap = get_ifs_vegetation_cmap()\n",
    "\n",
    "plt.figure(figsize=(10, 5), layout='constrained')\n",
    "\n",
    "ax=plt.subplot(121)\n",
    "plt.title('Corine 100 m')\n",
    "plt.pcolormesh(lu_corine.lon, lu_corine.lat, lu_corine.ds.index_veg, vmin=0, vmax=20, cmap=ifs_cmap)\n",
    "\n",
    "plt.subplot(122, sharex=ax, sharey=ax)\n",
    "plt.title('LCC 100 m')\n",
    "plt.pcolormesh(lu_lcc.lon, lu_lcc.lat, lu_lcc.ds.index_veg, vmin=0, vmax=20, cmap=ifs_cmap)\n",
    "\n",
    "#cbar = plt.colorbar(shrink=0.8)\n",
    "#cbar.set_ticks(np.arange(21))\n",
    "#cbar.set_ticklabels([veg_type.replace('_', ' ').title() for veg_type in names])\n",
    "#cbar.ax.tick_params(labelsize=8)"
   ]
  },
  {
   "cell_type": "code",
   "execution_count": null,
   "id": "4af825d9",
   "metadata": {},
   "outputs": [],
   "source": [
    "# Cleanup!\n",
    "files = glob.glob('*00*') #+ glob.glob('*.nc')\n",
    "for f in files:\n",
    "    os.remove(f)"
   ]
  }
 ],
 "metadata": {
  "kernelspec": {
   "display_name": ".venv",
   "language": "python",
   "name": "python3"
  },
  "language_info": {
   "codemirror_mode": {
    "name": "ipython",
    "version": 3
   },
   "file_extension": ".py",
   "mimetype": "text/x-python",
   "name": "python",
   "nbconvert_exporter": "python",
   "pygments_lexer": "ipython3",
   "version": "3.9.5"
  }
 },
 "nbformat": 4,
 "nbformat_minor": 5
}
