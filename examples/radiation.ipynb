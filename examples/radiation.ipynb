{
 "cells": [
  {
   "cell_type": "code",
   "execution_count": null,
   "id": "27d293d3",
   "metadata": {},
   "outputs": [],
   "source": [
    "import matplotlib.pyplot as plt\n",
    "import numpy as np\n",
    "import pandas as pd\n",
    "from datetime import datetime, timedelta\n",
    "\n",
    "from microhhpy.rad import calc_zenith_angles"
   ]
  },
  {
   "cell_type": "code",
   "execution_count": null,
   "id": "d112d2e4",
   "metadata": {},
   "outputs": [],
   "source": [
    "# `calc_zenith_angles()` accepts a wide range of date objects.\n",
    "dates_1 = [datetime(2020, 1, 1, 0) + timedelta(seconds=int(x)) for x in range(0, 86400, 600)]\n",
    "dates_2 = pd.date_range('2020-01-01 00:00:00', '2020-01-01 23:50:00', freq='600s')\n",
    "dates_3 = np.arange('2020-01-01T00:00:00', '2020-01-02T00:00:00',  np.timedelta64(600, 's'), dtype='datetime64[s]')\n",
    "\n",
    "lat = 51.97\n",
    "lon = 4.92\n",
    "\n",
    "cos_sza_1 = calc_zenith_angles(lat, lon, dates_1)\n",
    "cos_sza_2 = calc_zenith_angles(lat, lon, dates_2)\n",
    "cos_sza_3 = calc_zenith_angles(lat, lon, dates_3)"
   ]
  },
  {
   "cell_type": "code",
   "execution_count": null,
   "id": "7f6b96fe",
   "metadata": {},
   "outputs": [],
   "source": [
    "plt.figure()\n",
    "plt.plot(dates_1, cos_sza_1, label='from datetime')\n",
    "plt.plot(dates_2, cos_sza_2, label='from Pandas date')\n",
    "plt.plot(dates_3, cos_sza_3, label='from np.datetime64')\n",
    "plt.legend()\n",
    "plt.xlabel('date')\n",
    "plt.ylabel('cos(sza)')"
   ]
  }
 ],
 "metadata": {
  "kernelspec": {
   "display_name": ".venv",
   "language": "python",
   "name": "python3"
  },
  "language_info": {
   "codemirror_mode": {
    "name": "ipython",
    "version": 3
   },
   "file_extension": ".py",
   "mimetype": "text/x-python",
   "name": "python",
   "nbconvert_exporter": "python",
   "pygments_lexer": "ipython3",
   "version": "3.9.5"
  }
 },
 "nbformat": 4,
 "nbformat_minor": 5
}
