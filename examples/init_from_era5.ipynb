{
 "cells": [
  {
   "cell_type": "markdown",
   "metadata": {},
   "source": [
    "# Nesting MicroHH in ERA5\n",
    "\n",
    "This notebook contains documentation and examples for nesting MicroHH with open boundary conditions in ERA5.\n",
    "\n",
    "Nesting LES-in-LES is documented separately in `TODO.ipynb`."
   ]
  },
  {
   "cell_type": "code",
   "execution_count": 1,
   "metadata": {},
   "outputs": [],
   "source": [
    "# Standard library\n",
    "\n",
    "# Third-party.\n",
    "import matplotlib.pyplot as plt\n",
    "import numpy as np\n",
    "from datetime import datetime\n",
    "import ls2d\n",
    "import cartopy.crs as ccrs\n",
    "\n",
    "# Local library\n",
    "from microhhpy.spatial import Domain, plot_domains, Vertical_grid_2nd\n",
    "from microhhpy.openbc import create_initial_fields_from_era5\n",
    "from microhhpy.thermo import Basestate_moist\n",
    "\n",
    "TF = np.float32"
   ]
  },
  {
   "cell_type": "markdown",
   "metadata": {},
   "source": [
    "## ERA5 data\n",
    "\n",
    "For now, we use (LS)²D to download and read the ERA5 data. This can be simplified later, as we only need a few 3D fields from ERA5, and do not use the large-scale forcings typically required for a doubly periodic LES."
   ]
  },
  {
   "cell_type": "code",
   "execution_count": null,
   "metadata": {},
   "outputs": [],
   "source": [
    "settings = {\n",
    "    'start_date'  : datetime(year=2022, month=4, day=1, hour=12),\n",
    "    'end_date'    : datetime(year=2022, month=4, day=2, hour=16),\n",
    "    'central_lon' : 4.8,\n",
    "    'central_lat' : 53,\n",
    "    'area_size'   : 5,\n",
    "    'case_name'   : 'slocs_rf',\n",
    "    'era5_path'   : '/home/scratch1/bart/LS2D_ERA5/',\n",
    "    'era5_expver' : 1,\n",
    "    'cdsapirc'    : '/home/bart/.cdsapirc_ads'\n",
    "    }\n",
    "\n",
    "era5 = ls2d.Read_era5(settings)\n",
    "era5.calculate_forcings(n_av=3, method='2nd')"
   ]
  },
  {
   "cell_type": "markdown",
   "metadata": {},
   "source": [
    "## Spatial projection\n",
    "\n",
    "To nest LES in ERA5, a transformation is needed from the LES grid (in meters) to geographic coordinates (latitude / longitude in degrees).\n",
    "\n",
    "The `Domain()` class provides a simple way to define the domain. The spatial transformation is performed using `pyproj`, based on the `proj_str` definition."
   ]
  },
  {
   "cell_type": "code",
   "execution_count": null,
   "metadata": {},
   "outputs": [],
   "source": [
    "dom0 = Domain(\n",
    "    xsize=256_000,\n",
    "    ysize=256_000,\n",
    "    itot=128,\n",
    "    jtot=128,\n",
    "    n_ghost=3,\n",
    "    lon=4.8,\n",
    "    lat=53,\n",
    "    anchor='center',\n",
    "    proj_str='+proj=utm +zone=31 +ellps=intl +towgs84=-87,-98,-121,0,0,0,0 +units=m +no_defs +type=crs'\n",
    "    )\n",
    "\n",
    "plot_domains([dom0], use_projection=True)"
   ]
  },
  {
   "cell_type": "markdown",
   "metadata": {},
   "source": [
    "Note that each `Domain` instance includes two projections: one with ghost cells and one without. The version with ghost cells is needed for generating the lateral boundary conditions.\n",
    "\n",
    "The padded projection actually includes `nghost + 1` ghost cells. The extra cells are needed to create divergence free fields in the east- and north-most ghost cells."
   ]
  },
  {
   "cell_type": "code",
   "execution_count": null,
   "metadata": {},
   "outputs": [],
   "source": [
    "print(dom0.proj.itot, dom0.proj_pad.itot)"
   ]
  },
  {
   "cell_type": "markdown",
   "metadata": {},
   "source": [
    "Coordinate pairs are available for each grid point location `(u, v, scalar)`:"
   ]
  },
  {
   "cell_type": "code",
   "execution_count": null,
   "metadata": {},
   "outputs": [],
   "source": [
    "plt.figure()\n",
    "\n",
    "plt.scatter(dom0.proj.lon,   dom0.proj.lat,   marker='o', facecolor='none', edgecolor='C0', label='scalar')\n",
    "plt.scatter(dom0.proj.lon_u, dom0.proj.lat_u, marker='>', facecolor='none', edgecolor='C1', label='u')\n",
    "plt.scatter(dom0.proj.lon_v, dom0.proj.lat_v, marker='^', facecolor='none', edgecolor='C2', label='v')\n",
    "\n",
    "plt.xlim(dom0.proj.central_lon-0.03, dom0.proj.central_lon+0.03)\n",
    "plt.ylim(dom0.proj.central_lat-0.03, dom0.proj.central_lat+0.03)\n",
    "\n",
    "plt.legend()"
   ]
  },
  {
   "cell_type": "markdown",
   "metadata": {},
   "source": [
    "## Vertical grid\n",
    "\n",
    "To ensure that the initial LES fields are divergence-free, we need the _exact_ vertical grid definition from MicroHH."
   ]
  },
  {
   "cell_type": "code",
   "execution_count": 6,
   "metadata": {},
   "outputs": [],
   "source": [
    "zsize = 3200\n",
    "ktot = 128\n",
    "dz = zsize / ktot\n",
    "z = np.arange(dz/2, zsize, dz)\n",
    "\n",
    "vgrid = Vertical_grid_2nd(z, zsize, remove_ghost=True)"
   ]
  },
  {
   "cell_type": "markdown",
   "metadata": {},
   "source": [
    "## Basestate density\n",
    "\n",
    "Interpolate mean ERA5 fields to LES grid as basis for the LES basestate density. Again, this has to _perfectly_ match the basestate density used by MicroHH."
   ]
  },
  {
   "cell_type": "code",
   "execution_count": null,
   "metadata": {},
   "outputs": [],
   "source": [
    "les_input = era5.get_les_input(vgrid.z)\n",
    "\n",
    "bs = Basestate_moist(\n",
    "    les_input['thl'][0,:].values,\n",
    "    les_input['qt'][0,:].values,\n",
    "    float(les_input['ps'][0].values),\n",
    "    vgrid.z,\n",
    "    vgrid.zsize,\n",
    "    remove_ghost=True,\n",
    "    dtype=TF)\n",
    "\n",
    "plt.figure()\n",
    "plt.plot(bs.rho, vgrid.z)\n",
    "plt.xlabel(r'$\\rho$ (kg m$^{-3}$)')\n",
    "plt.ylabel(r'$z$ (m)')"
   ]
  },
  {
   "cell_type": "markdown",
   "metadata": {},
   "source": [
    "## Initial conditions\n",
    "\n",
    "The initial conditions are (not so...) simply the 3D ERA5 fields tri-linearly interpolated to the LES grid.\n",
    "\n",
    "To reduce the blocky structures that result from interpolating coarse ERA5 data, a Gaussian filter with standard deviation `sigma_h` is applied after interpolation.\n",
    "\n",
    "### Momentum & divergence\n",
    "The momentum fields require special treatment because they must be divergence-free. To achieve this, the `(u, v)` velocity components are corrected such that:\n",
    "\n",
    "1. The resulting fields are divergence-free, and:\n",
    "2. The domain-mean vertical velocity in LES matches that from ERA5.\n",
    "\n",
    "Note that we correct the horizontal velocities as `u,v >> w`, and correcting `w` can cause a significant mismatch in subsidence between LES and ERA5.\n",
    "\n",
    "### Output\n",
    "\n",
    "The initial conditions are written directly as binary input files (e.g. `u.0000000`) for MicroHH in the specified `output_dir`. By setting a `name_suffix`, the files can optionally be written with a custom name, such as `u_some_name.0000000`. This allows you to overwrite the homogeneous 3D restart files generated during the `init` phase of MicroHH with the fields derived from ERA5."
   ]
  },
  {
   "cell_type": "code",
   "execution_count": null,
   "metadata": {},
   "outputs": [],
   "source": [
    "fields_era = {\n",
    "    'u': era5.u[0,:,:,:],\n",
    "    'v': era5.v[0,:,:,:],\n",
    "    'w': era5.w[0,:,:,:],\n",
    "    'thl': era5.thl[0,:,:,:],\n",
    "    'qt': era5.qt[0,:,:,:],\n",
    "}\n",
    "\n",
    "z_era = era5.z[0,:,:,:]\n",
    "\n",
    "sigma_h = 60_000\n",
    "correct_div_h = True\n",
    "\n",
    "u,v,wls = create_initial_fields_from_era5(\n",
    "    fields_era,\n",
    "    era5.lons,\n",
    "    era5.lats,\n",
    "    z_era,\n",
    "    vgrid.z,\n",
    "    vgrid.zh,\n",
    "    bs.rho,\n",
    "    bs.rhoh,\n",
    "    dom0,\n",
    "    correct_div_h,\n",
    "    sigma_h,\n",
    "    output_dir='.',\n",
    "    name_suffix='era',\n",
    "    dtype=TF)"
   ]
  },
  {
   "cell_type": "code",
   "execution_count": 37,
   "metadata": {},
   "outputs": [],
   "source": [
    "u_old = u.copy()\n",
    "v_old = v.copy()\n",
    "\n",
    "rho = bs.rho\n",
    "rhoh = bs.rhoh\n",
    "npad = 4\n",
    "dzi = vgrid.dzi\n",
    "xsize = dom0.xsize\n",
    "ysize = dom0.ysize\n",
    "x = dom0.proj_pad.x\n",
    "y = dom0.proj_pad.y\n",
    "\n",
    "# Slice of domain without ghost cells.\n",
    "inner = np.s_[:,npad:-npad, npad:-npad]\n",
    "\n",
    "# Take mean over interpolated field without ghost cells, to get target mean subsidence velocity.\n",
    "w_target = wls[inner].mean(axis=(1,2))\n",
    "\n",
    "# Calculate target horizontal divergence `rho * (du/dx + dv/dy)`.\n",
    "rho_w = rhoh * w_target\n",
    "div_uv_target = -(rho_w[1:] - rho_w[:-1]) * dzi[:]\n",
    "\n",
    "# Calculate actual divergence from interpolated `u,v` fields.\n",
    "div_u = rho * (u[:, npad:-npad, -npad].mean(axis=1) - u[:, npad:-npad,  npad].mean(axis=1)) / xsize\n",
    "div_v = rho * (v[:, -npad, npad:-npad].mean(axis=1) - v[:, npad,  npad:-npad].mean(axis=1)) / ysize\n",
    "div_uv_actual = div_u + div_v\n",
    "\n",
    "# Required change in horizontal divergence.\n",
    "diff_div = div_uv_target - div_uv_actual\n",
    "\n",
    "# Distribute over `u,v`: how to best do this? For now 50/50.\n",
    "du_dx = diff_div / 2. / rho\n",
    "dv_dy = diff_div / 2. / rho\n",
    "\n",
    "# Distance from domain center in `x,y`.\n",
    "xp = x - xsize / 2.\n",
    "yp = y - ysize / 2.\n",
    "\n",
    "# Correct velocities.\n",
    "u[:,:,:] += du_dx[:,None,None] * xp[None,None,:]\n",
    "v[:,:,:] += dv_dy[:,None,None] * yp[None,:,None]"
   ]
  },
  {
   "cell_type": "code",
   "execution_count": null,
   "metadata": {},
   "outputs": [],
   "source": [
    "plt.figure()\n",
    "\n",
    "plt.subplot(231)\n",
    "plt.title('Uncorrected')\n",
    "plt.pcolormesh(x, y, u_old[0,:,:])\n",
    "plt.colorbar()\n",
    "\n",
    "plt.subplot(232)\n",
    "plt.title('Corrected')\n",
    "plt.pcolormesh(x, y, u[0,:,:])\n",
    "plt.colorbar()\n",
    "\n",
    "plt.subplot(233)\n",
    "plt.title('Diff')\n",
    "plt.pcolormesh(x, y, u[0,:,:]-u_old[0,:,:])\n",
    "plt.colorbar()\n",
    "\n",
    "plt.subplot(234)\n",
    "plt.title('Uncorrected')\n",
    "plt.pcolormesh(x, y, v_old[0,:,:])\n",
    "plt.colorbar()\n",
    "\n",
    "plt.subplot(235)\n",
    "plt.title('Corrected')\n",
    "plt.pcolormesh(x, y, v[0,:,:])\n",
    "plt.colorbar()\n",
    "\n",
    "plt.subplot(236)\n",
    "plt.title('Diff')\n",
    "plt.pcolormesh(x, y, v[0,:,:]-v_old[0,:,:])\n",
    "plt.colorbar()"
   ]
  },
  {
   "cell_type": "code",
   "execution_count": 10,
   "metadata": {},
   "outputs": [],
   "source": [
    "def correct_uv_given_w(\n",
    "        u, v, wls, rho, rhoh, dzi, x, y, xsize, ysize, npad):\n",
    "    \"\"\"\n",
    "    Correct `u,v` fields to ensure that `calc_w_from_uv` results in the same\n",
    "    mean vertical velocity as the input `wls`.\n",
    "    \"\"\"\n",
    "\n",
    "    # Target mean velocity (domain mean `wls` from ERA5).\n",
    "    w_target = wls.mean(axis=(1,2))\n",
    "\n",
    "    # Calculate target horizontal divergence `rho * (du/dx + dv/dy)`.\n",
    "    rho_w = rhoh * w_target\n",
    "    div_uv_target = -(rho_w[1:] - rho_w[:-1]) * dzi[:]\n",
    "\n",
    "    # Calculate actual divergence from interpolated `u,v` fields.\n",
    "    div_u = rho * (u[:, npad:-npad, -npad].mean(axis=1) - u[:, npad:-npad,  npad].mean(axis=1)) / xsize\n",
    "    div_v = rho * (v[:, -npad, npad:-npad].mean(axis=1) - v[:, npad,  npad:-npad].mean(axis=1)) / ysize\n",
    "    div_uv_actual = div_u + div_v\n",
    "\n",
    "    # Required change in horizontal divergence.\n",
    "    diff_div = div_uv_target - div_uv_actual\n",
    "\n",
    "    # Distribute over `u,v`: how to best do this? For now 50/50.\n",
    "    du_dx = diff_div / 2. / rho\n",
    "    dv_dy = diff_div / 2. / rho\n",
    "\n",
    "    # Distance from domain center in `x,y`.\n",
    "    xp = x - xsize / 2.\n",
    "    yp = y - ysize / 2.\n",
    "\n",
    "    # Correct velocities.\n",
    "    u[:,:,:] += du_dx[:,None,None] * xp[None,None,:]\n",
    "    v[:,:,:] += dv_dy[:,None,None] * yp[None,:,None]"
   ]
  },
  {
   "cell_type": "code",
   "execution_count": null,
   "metadata": {},
   "outputs": [],
   "source": [
    "thl = np.fromfile('thl_era.0000000', dtype=TF).reshape((vgrid.kmax, dom0.jtot, dom0.itot))\n",
    "\n",
    "plot_domains([dom0], use_projection=True)\n",
    "plt.pcolormesh(dom0.proj.lon, dom0.proj.lat, thl[0,:,:], transform=ccrs.PlateCarree())\n",
    "plt.colorbar()"
   ]
  }
 ],
 "metadata": {
  "kernelspec": {
   "display_name": ".venv",
   "language": "python",
   "name": "python3"
  },
  "language_info": {
   "codemirror_mode": {
    "name": "ipython",
    "version": 3
   },
   "file_extension": ".py",
   "mimetype": "text/x-python",
   "name": "python",
   "nbconvert_exporter": "python",
   "pygments_lexer": "ipython3",
   "version": "3.9.5"
  }
 },
 "nbformat": 4,
 "nbformat_minor": 2
}
