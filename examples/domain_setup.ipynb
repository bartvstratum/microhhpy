{
 "cells": [
  {
   "cell_type": "code",
   "execution_count": null,
   "metadata": {},
   "outputs": [],
   "source": [
    "# Standard library\n",
    "\n",
    "# Third-party.\n",
    "import matplotlib.pyplot as plt\n",
    "import numpy as np\n",
    "\n",
    "# Local library\n",
    "from microhhpy.spatial import Domain, plot_domains\n",
    "\n",
    "TF = np.float32"
   ]
  },
  {
   "cell_type": "markdown",
   "metadata": {},
   "source": [
    "## Domain setup without spatial projection."
   ]
  },
  {
   "cell_type": "code",
   "execution_count": null,
   "metadata": {},
   "outputs": [],
   "source": [
    "d0 = Domain(\n",
    "    xsize=3200,\n",
    "    ysize=3200,\n",
    "    itot=32,\n",
    "    jtot=32,\n",
    "    n_ghost=3,\n",
    "    n_sponge=4\n",
    "    )\n",
    "\n",
    "d1 = Domain(\n",
    "    xsize=1600,\n",
    "    ysize=1600,\n",
    "    itot=32,\n",
    "    jtot=32,\n",
    "    n_ghost=3,\n",
    "    n_sponge=4,\n",
    "    parent=d0,\n",
    "    center_in_parent=True,\n",
    "    )\n",
    "\n",
    "d2 = Domain(\n",
    "    xsize=800,\n",
    "    ysize=800,\n",
    "    itot=32,\n",
    "    jtot=32,\n",
    "    n_ghost=3,\n",
    "    n_sponge=4,\n",
    "    parent=d1,\n",
    "    xstart_in_parent=200,\n",
    "    ystart_in_parent=200,\n",
    "    )\n",
    "\n",
    "d0.child = d1\n",
    "d1.child = d2\n",
    "\n",
    "\n",
    "\"\"\"\n",
    "Plot domains.\n",
    "\"\"\"\n",
    "plot_domains([d0, d1, d2])"
   ]
  },
  {
   "cell_type": "markdown",
   "metadata": {},
   "source": [
    "## Domain setup with spatial projection."
   ]
  },
  {
   "cell_type": "code",
   "execution_count": null,
   "metadata": {},
   "outputs": [],
   "source": [
    "d0 = Domain(\n",
    "    xsize=128000,\n",
    "    ysize=128000,\n",
    "    itot=64,\n",
    "    jtot=64,\n",
    "    n_ghost=3,\n",
    "    n_sponge=5,\n",
    "    lon=4.92,\n",
    "    lat=51.97,\n",
    "    anchor='center',\n",
    "    proj_str='+proj=utm +zone=31 +ellps=intl +towgs84=-87,-98,-121,0,0,0,0 +units=m +no_defs +type=crs'\n",
    "    )\n",
    "\n",
    "d1 = Domain(\n",
    "    xsize=64000,\n",
    "    ysize=64000,\n",
    "    itot=64,\n",
    "    jtot=64,\n",
    "    n_ghost=3,\n",
    "    n_sponge=3,\n",
    "    parent=d0,\n",
    "    center_in_parent=True\n",
    "    )\n",
    "\n",
    "d0.child = d1\n",
    "\n",
    "\n",
    "\"\"\"\n",
    "Plot domains.\n",
    "\"\"\"\n",
    "plot_domains([d0, d1], use_projection=True, scatter_lonlat=True)\n",
    "\n",
    "\n",
    "\"\"\"\n",
    "Using the projection.\n",
    "Each domain has `.proj` instance that contains the lat/lon coordinates\n",
    "(see docstring of `microhhpy.spatial.Projection`), and can do x/y <-> lon/lat transforms.\n",
    "\"\"\"\n",
    "x,y = d0.proj.to_xy(4.92, 51.97)\n",
    "lon,lat = d0.proj.to_lonlat(x, y)\n",
    "\n",
    "print(f'Coordinates ({lon:.2f}, {lat:.2f}) degrees = ({x:.2f}, {y:.2f}) m in LES.')"
   ]
  }
 ],
 "metadata": {
  "kernelspec": {
   "display_name": ".venv",
   "language": "python",
   "name": "python3"
  },
  "language_info": {
   "codemirror_mode": {
    "name": "ipython",
    "version": 3
   },
   "file_extension": ".py",
   "mimetype": "text/x-python",
   "name": "python",
   "nbconvert_exporter": "python",
   "pygments_lexer": "ipython3",
   "version": "3.9.5"
  }
 },
 "nbformat": 4,
 "nbformat_minor": 2
}
