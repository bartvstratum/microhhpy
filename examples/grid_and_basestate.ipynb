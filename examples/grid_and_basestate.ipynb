{
 "cells": [
  {
   "cell_type": "code",
   "execution_count": 1,
   "metadata": {},
   "outputs": [],
   "source": [
    "# Standard library\n",
    "\n",
    "# Third-party.\n",
    "import matplotlib.pyplot as plt\n",
    "import numpy as np\n",
    "\n",
    "# Local library\n",
    "from microhhpy.spatial.vertical_grid import Vertical_grid_2nd\n",
    "from microhhpy.thermo import Basestate_moist, Basestate_dry\n",
    "\n",
    "TF = np.float64"
   ]
  },
  {
   "cell_type": "markdown",
   "metadata": {},
   "source": [
    "## Vertical grid\n",
    "Specify vertical grid including all full and half level heights, grid spacings, et cetera, in line with MicroHH procedure."
   ]
  },
  {
   "cell_type": "code",
   "execution_count": 2,
   "metadata": {},
   "outputs": [],
   "source": [
    "ktot = 128\n",
    "zsize = 3200\n",
    "dz = zsize / ktot\n",
    "z = np.arange(dz/2, zsize, dz)\n",
    "\n",
    "vgrid = Vertical_grid_2nd(z, zsize, remove_ghost=False)"
   ]
  },
  {
   "cell_type": "markdown",
   "metadata": {},
   "source": [
    "## Moist base state\n",
    "Calculate moist base state pressure, density, et cetera, using the saturation adjustment procedure from MicroHH.\n",
    "\n",
    "Note that this does not require the precise vertical grid definition defined above. Only the full level heights and domain top height are needed."
   ]
  },
  {
   "cell_type": "code",
   "execution_count": null,
   "metadata": {},
   "outputs": [],
   "source": [
    "thl = 290 + z * 0.006\n",
    "qt  = 10e-3 - z * 0.002e-3\n",
    "pbot = 101300\n",
    "\n",
    "bs_moist = Basestate_moist(thl, qt, pbot, z, zsize, remove_ghost=True, dtype=TF)\n",
    "\n",
    "plt.figure(layout='tight')\n",
    "\n",
    "plt.subplot(121)\n",
    "plt.plot(bs_moist.p, z)\n",
    "plt.xlabel('p (Pa)')\n",
    "plt.ylabel('z (m)')\n",
    "\n",
    "plt.subplot(122)\n",
    "plt.plot(bs_moist.rho, z)\n",
    "plt.xlabel('rho (kg/m3)')"
   ]
  },
  {
   "cell_type": "markdown",
   "metadata": {},
   "source": [
    "## Dry base state."
   ]
  },
  {
   "cell_type": "code",
   "execution_count": null,
   "metadata": {},
   "outputs": [],
   "source": [
    "bs_dry = Basestate_dry(thl, pbot, z, zsize, remove_ghost=True, dtype=TF)\n",
    "\n",
    "plt.figure(layout='tight')\n",
    "\n",
    "plt.subplot(121)\n",
    "plt.plot(bs_dry.p, z)\n",
    "plt.xlabel('p (Pa)')\n",
    "plt.ylabel('z (m)')\n",
    "\n",
    "plt.subplot(122)\n",
    "plt.plot(bs_dry.rho, z)\n",
    "plt.xlabel('rho (kg/m3)')"
   ]
  },
  {
   "cell_type": "markdown",
   "metadata": {},
   "source": [
    "## Check: base states should be identical for qt=0.\n"
   ]
  },
  {
   "cell_type": "code",
   "execution_count": null,
   "metadata": {},
   "outputs": [],
   "source": [
    "qt = np.zeros(ktot)\n",
    "bs_moist = Basestate_moist(thl, qt, pbot, z, zsize, remove_ghost=True, dtype=TF)\n",
    "\n",
    "print('Max diff rho = ', np.max(np.abs(bs_moist.rho - bs_dry.rho)))\n",
    "print('Max diff p = ', np.max(np.abs(bs_moist.p - bs_dry.p)))"
   ]
  }
 ],
 "metadata": {
  "kernelspec": {
   "display_name": ".venv",
   "language": "python",
   "name": "python3"
  },
  "language_info": {
   "codemirror_mode": {
    "name": "ipython",
    "version": 3
   },
   "file_extension": ".py",
   "mimetype": "text/x-python",
   "name": "python",
   "nbconvert_exporter": "python",
   "pygments_lexer": "ipython3",
   "version": "3.9.5"
  }
 },
 "nbformat": 4,
 "nbformat_minor": 2
}
