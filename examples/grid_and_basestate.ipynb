{
 "cells": [
  {
   "cell_type": "code",
   "execution_count": 1,
   "metadata": {},
   "outputs": [],
   "source": [
    "# Standard library\n",
    "\n",
    "# Third-party.\n",
    "import matplotlib.pyplot as plt\n",
    "import numpy as np\n",
    "\n",
    "# Local library\n",
    "from microhhpy.spatial.vertical_grid import Vertical_grid_2nd\n",
    "from microhhpy.thermo import Basestate_moist\n",
    "\n",
    "TF = np.float32"
   ]
  },
  {
   "cell_type": "markdown",
   "metadata": {},
   "source": [
    "## Vertical grid\n",
    "Specify vertical grid including all full and half level heights, grid spacings, et cetera, in line with MicroHH procedure."
   ]
  },
  {
   "cell_type": "code",
   "execution_count": 2,
   "metadata": {},
   "outputs": [],
   "source": [
    "ktot = 128\n",
    "zsize = 3200\n",
    "dz = zsize / ktot\n",
    "z = np.arange(dz/2, zsize, dz)\n",
    "\n",
    "vgrid = Vertical_grid_2nd(z, zsize, remove_ghost=False)"
   ]
  },
  {
   "cell_type": "markdown",
   "metadata": {},
   "source": [
    "## Base state\n",
    "Calculate moist base state pressure, density, et cetera, using the saturation adjustment procedure from MicroHH."
   ]
  },
  {
   "cell_type": "code",
   "execution_count": 3,
   "metadata": {},
   "outputs": [],
   "source": [
    "thl = 290 + z * 0.006\n",
    "qt  = 10e-3 - z * 0.002e-3\n",
    "pbot = 101300\n",
    "\n",
    "bs = Basestate_moist(thl, qt, pbot, z, zsize, remove_ghost=True, dtype=TF)"
   ]
  },
  {
   "cell_type": "code",
   "execution_count": null,
   "metadata": {},
   "outputs": [],
   "source": [
    "plt.figure(layout='tight')\n",
    "\n",
    "plt.subplot(121)\n",
    "plt.plot(bs.pref, z)\n",
    "plt.xlabel('p (Pa)')\n",
    "plt.ylabel('z (m)')\n",
    "\n",
    "plt.subplot(122)\n",
    "plt.plot(bs.rho, z)\n",
    "plt.xlabel('rho (kg/m3)')"
   ]
  }
 ],
 "metadata": {
  "kernelspec": {
   "display_name": ".venv",
   "language": "python",
   "name": "python3"
  },
  "language_info": {
   "codemirror_mode": {
    "name": "ipython",
    "version": 3
   },
   "file_extension": ".py",
   "mimetype": "text/x-python",
   "name": "python",
   "nbconvert_exporter": "python",
   "pygments_lexer": "ipython3",
   "version": "3.9.5"
  }
 },
 "nbformat": 4,
 "nbformat_minor": 2
}
