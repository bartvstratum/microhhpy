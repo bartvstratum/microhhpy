{
 "cells": [
  {
   "cell_type": "code",
   "execution_count": null,
   "id": "1fcf0d39",
   "metadata": {},
   "outputs": [],
   "source": [
    "import matplotlib.pyplot as plt\n",
    "from datetime import datetime\n",
    "\n",
    "from microhhpy.chem import calc_tuv_photolysis\n",
    "from microhhpy.utils import get_data_file"
   ]
  },
  {
   "cell_type": "markdown",
   "id": "7b298126",
   "metadata": {},
   "source": [
    "Generating photolysis rates for the KPP chemistry scheme is somewhat cumbersome. Currently, we need to generate input files for TUV and then call it from Python. Since TUV is written in Fortran, it is not straightforward to include it in a Python package as a pre-compiled executable. As a result, the process requires several extra steps:\n",
    "\n",
    "1. Download the TUV source code from: https://www2.acom.ucar.edu/modeling/tuv-download . This tutorial uses TUV 5.4 from May 2021.\n",
    "2. Unpack and compile the code with `make`. This only requires the `gfortran` compiler.\n",
    "3. Use the path to the TUV root (e.g. `/path/to/TUV5.4`) in the `calc_tuv_photolysis()` call below."
   ]
  },
  {
   "cell_type": "code",
   "execution_count": null,
   "id": "b3e4248c",
   "metadata": {},
   "outputs": [],
   "source": [
    "# Path the the TUV directory containing the compiled `tuv` binary:\n",
    "tuv_path = '/home/bart/meteo/models/microhhpy/external/TUV/V5.4'\n",
    "\n",
    "# Case name. This must be exactly 6 characters long. Not 5, not 7, because flexibility is overrated…\n",
    "name = 'microh'\n",
    "\n",
    "# The TUV routines in `microhhpy` works from a base input file which is included in the repository.\n",
    "# Our wrapper only updates the date/time and lat/lon parameters. If you need to change more, simply\n",
    "# copy this file and edit it before passing the path to `calc_tuv_photolysis` below.\n",
    "input_file = get_data_file('microhh_tuv.base')"
   ]
  },
  {
   "cell_type": "code",
   "execution_count": null,
   "id": "2e945ae2",
   "metadata": {},
   "outputs": [],
   "source": [
    "!cat {input_file}"
   ]
  },
  {
   "cell_type": "code",
   "execution_count": null,
   "id": "f44e7e4b",
   "metadata": {},
   "outputs": [],
   "source": [
    "# TUV can only generated output for a single day. More days are possible\n",
    "# with out Python wrapper, which simply calls the TUV code multiple times.\n",
    "start_date = datetime(year=2020, month=9, day=1, hour=12)\n",
    "end_date = datetime(year=2020, month=9, day=3, hour=18)\n",
    "\n",
    "lon = 5.1\n",
    "lat = 50.1\n",
    "\n",
    "# Option to suppress the print statements from TUV:\n",
    "suppress_stdout=True\n",
    "\n",
    "tuv_df = calc_tuv_photolysis(\n",
    "        input_file,\n",
    "        tuv_path,\n",
    "        name,\n",
    "        start_date,\n",
    "        end_date,\n",
    "        lon,\n",
    "        lat,\n",
    "        suppress_stdout)"
   ]
  },
  {
   "cell_type": "code",
   "execution_count": null,
   "id": "1d8d642e",
   "metadata": {},
   "outputs": [],
   "source": [
    "plt.figure()\n",
    "plt.plot(tuv_df.index, tuv_df.jno2)\n",
    "plt.xlabel('Date')\n",
    "plt.ylabel(r'J$_\\mathrm{NO_2}$ (s$^{-1}$)')"
   ]
  }
 ],
 "metadata": {
  "kernelspec": {
   "display_name": ".venv",
   "language": "python",
   "name": "python3"
  },
  "language_info": {
   "codemirror_mode": {
    "name": "ipython",
    "version": 3
   },
   "file_extension": ".py",
   "mimetype": "text/x-python",
   "name": "python",
   "nbconvert_exporter": "python",
   "pygments_lexer": "ipython3",
   "version": "3.9.5"
  }
 },
 "nbformat": 4,
 "nbformat_minor": 5
}
